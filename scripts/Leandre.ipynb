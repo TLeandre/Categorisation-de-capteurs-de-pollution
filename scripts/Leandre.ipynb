{
 "cells": [
  {
   "cell_type": "code",
   "execution_count": 2,
   "id": "40ed9f08-24bc-4327-ae20-2a9002cc1caa",
   "metadata": {},
   "outputs": [],
   "source": [
    "import pandas as pd \n",
    "import numpy as np"
   ]
  },
  {
   "cell_type": "code",
   "execution_count": 24,
   "id": "d1928fcd-2d2d-45bc-8abe-0f205699cf9c",
   "metadata": {},
   "outputs": [],
   "source": [
    "mesure = pd.read_csv('../data/donnees_mesures_PM2_5.csv',sep=';')"
   ]
  },
  {
   "cell_type": "code",
   "execution_count": 28,
   "id": "5e52c766-cd8b-4111-a12e-149b52664cf0",
   "metadata": {},
   "outputs": [
    {
     "data": {
      "text/plain": [
       "str"
      ]
     },
     "execution_count": 28,
     "metadata": {},
     "output_type": "execute_result"
    }
   ],
   "source": [
    "type(env['Date'][1])"
   ]
  },
  {
   "cell_type": "code",
   "execution_count": 29,
   "id": "e15af050-0bcf-419f-8bf0-fa54f396374f",
   "metadata": {},
   "outputs": [
    {
     "data": {
      "text/plain": [
       "'01/01/2023 00:15'"
      ]
     },
     "execution_count": 29,
     "metadata": {},
     "output_type": "execute_result"
    }
   ],
   "source": [
    "env['Date'][1]"
   ]
  },
  {
   "cell_type": "code",
   "execution_count": 30,
   "id": "4d18b542-f38d-4c5f-8512-ecd57db8cb70",
   "metadata": {},
   "outputs": [
    {
     "ename": "ValueError",
     "evalue": "could not convert string to float: '4,439'",
     "output_type": "error",
     "traceback": [
      "\u001b[1;31m---------------------------------------------------------------------------\u001b[0m",
      "\u001b[1;31mValueError\u001b[0m                                Traceback (most recent call last)",
      "Cell \u001b[1;32mIn[30], line 1\u001b[0m\n\u001b[1;32m----> 1\u001b[0m test \u001b[38;5;241m=\u001b[39m \u001b[38;5;28;43mfloat\u001b[39;49m\u001b[43m(\u001b[49m\u001b[43menv\u001b[49m\u001b[43m[\u001b[49m\u001b[38;5;124;43m'\u001b[39;49m\u001b[38;5;124;43mc1\u001b[39;49m\u001b[38;5;124;43m'\u001b[39;49m\u001b[43m]\u001b[49m\u001b[43m[\u001b[49m\u001b[38;5;241;43m1\u001b[39;49m\u001b[43m]\u001b[49m\u001b[43m)\u001b[49m\n",
      "\u001b[1;31mValueError\u001b[0m: could not convert string to float: '4,439'"
     ]
    }
   ],
   "source": [
    "test = float(env['c1'][1])"
   ]
  },
  {
   "cell_type": "code",
   "execution_count": null,
   "id": "2ef64956-848a-4307-8260-4f72a57d1e3c",
   "metadata": {},
   "outputs": [],
   "source": [
    "# Fonction pour convertir la chaîne en nombre flottant\n",
    "def convertir_en_float(chaine):\n",
    "    return float(chaine.replace(',', '.'))\n",
    "\n",
    "# Applique la fonction à la colonne du DataFrame\n",
    "df['colonne'] = df['colonne'].apply(convertir_en_float)\n",
    "\n",
    "# Affiche le DataFrame mis à jour\n",
    "print(df)"
   ]
  }
 ],
 "metadata": {
  "kernelspec": {
   "display_name": "Python 3 (ipykernel)",
   "language": "python",
   "name": "python3"
  },
  "language_info": {
   "codemirror_mode": {
    "name": "ipython",
    "version": 3
   },
   "file_extension": ".py",
   "mimetype": "text/x-python",
   "name": "python",
   "nbconvert_exporter": "python",
   "pygments_lexer": "ipython3",
   "version": "3.10.5"
  }
 },
 "nbformat": 4,
 "nbformat_minor": 5
}
