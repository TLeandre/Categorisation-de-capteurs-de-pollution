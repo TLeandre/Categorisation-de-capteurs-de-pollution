{
 "cells": [
  {
   "cell_type": "code",
   "execution_count": 195,
   "id": "03c0d801-f4f4-4ced-8273-f391e1e23711",
   "metadata": {},
   "outputs": [],
   "source": [
    "import pandas as pd\n",
    "import numpy as np"
   ]
  },
  {
   "cell_type": "code",
   "execution_count": 196,
   "id": "125a455a-dc4d-4cfc-9f05-4f5c85ee39f7",
   "metadata": {},
   "outputs": [
    {
     "ename": "FileNotFoundError",
     "evalue": "[Errno 2] No such file or directory: '../data/donnees_mesures_PM2_5.xlsx'",
     "output_type": "error",
     "traceback": [
      "\u001b[1;31m---------------------------------------------------------------------------\u001b[0m",
      "\u001b[1;31mFileNotFoundError\u001b[0m                         Traceback (most recent call last)",
      "Cell \u001b[1;32mIn[196], line 1\u001b[0m\n\u001b[1;32m----> 1\u001b[0m donnees_mes \u001b[38;5;241m=\u001b[39m \u001b[43mpd\u001b[49m\u001b[38;5;241;43m.\u001b[39;49m\u001b[43mread_excel\u001b[49m\u001b[43m(\u001b[49m\u001b[38;5;124;43m\"\u001b[39;49m\u001b[38;5;124;43m../data/donnees_mesures_PM2_5.xlsx\u001b[39;49m\u001b[38;5;124;43m\"\u001b[39;49m\u001b[43m)\u001b[49m\n\u001b[0;32m      2\u001b[0m donnees_env \u001b[38;5;241m=\u001b[39m pd\u001b[38;5;241m.\u001b[39mread_excel(\u001b[38;5;124m\"\u001b[39m\u001b[38;5;124m../data/donnees_environnement_capteurs.xlsx\u001b[39m\u001b[38;5;124m\"\u001b[39m)\n\u001b[0;32m      3\u001b[0m donnees_mes\n",
      "File \u001b[1;32m~\\OneDrive\\Bureau\\ECOLE\\IMT Nord Europe\\M1\\ODATA\\Projet\\Categorisation-de-capteurs-de-pollution\\venv\\lib\\site-packages\\pandas\\io\\excel\\_base.py:504\u001b[0m, in \u001b[0;36mread_excel\u001b[1;34m(io, sheet_name, header, names, index_col, usecols, dtype, engine, converters, true_values, false_values, skiprows, nrows, na_values, keep_default_na, na_filter, verbose, parse_dates, date_parser, date_format, thousands, decimal, comment, skipfooter, storage_options, dtype_backend, engine_kwargs)\u001b[0m\n\u001b[0;32m    502\u001b[0m \u001b[38;5;28;01mif\u001b[39;00m \u001b[38;5;129;01mnot\u001b[39;00m \u001b[38;5;28misinstance\u001b[39m(io, ExcelFile):\n\u001b[0;32m    503\u001b[0m     should_close \u001b[38;5;241m=\u001b[39m \u001b[38;5;28;01mTrue\u001b[39;00m\n\u001b[1;32m--> 504\u001b[0m     io \u001b[38;5;241m=\u001b[39m \u001b[43mExcelFile\u001b[49m\u001b[43m(\u001b[49m\n\u001b[0;32m    505\u001b[0m \u001b[43m        \u001b[49m\u001b[43mio\u001b[49m\u001b[43m,\u001b[49m\n\u001b[0;32m    506\u001b[0m \u001b[43m        \u001b[49m\u001b[43mstorage_options\u001b[49m\u001b[38;5;241;43m=\u001b[39;49m\u001b[43mstorage_options\u001b[49m\u001b[43m,\u001b[49m\n\u001b[0;32m    507\u001b[0m \u001b[43m        \u001b[49m\u001b[43mengine\u001b[49m\u001b[38;5;241;43m=\u001b[39;49m\u001b[43mengine\u001b[49m\u001b[43m,\u001b[49m\n\u001b[0;32m    508\u001b[0m \u001b[43m        \u001b[49m\u001b[43mengine_kwargs\u001b[49m\u001b[38;5;241;43m=\u001b[39;49m\u001b[43mengine_kwargs\u001b[49m\u001b[43m,\u001b[49m\n\u001b[0;32m    509\u001b[0m \u001b[43m    \u001b[49m\u001b[43m)\u001b[49m\n\u001b[0;32m    510\u001b[0m \u001b[38;5;28;01melif\u001b[39;00m engine \u001b[38;5;129;01mand\u001b[39;00m engine \u001b[38;5;241m!=\u001b[39m io\u001b[38;5;241m.\u001b[39mengine:\n\u001b[0;32m    511\u001b[0m     \u001b[38;5;28;01mraise\u001b[39;00m \u001b[38;5;167;01mValueError\u001b[39;00m(\n\u001b[0;32m    512\u001b[0m         \u001b[38;5;124m\"\u001b[39m\u001b[38;5;124mEngine should not be specified when passing \u001b[39m\u001b[38;5;124m\"\u001b[39m\n\u001b[0;32m    513\u001b[0m         \u001b[38;5;124m\"\u001b[39m\u001b[38;5;124man ExcelFile - ExcelFile already has the engine set\u001b[39m\u001b[38;5;124m\"\u001b[39m\n\u001b[0;32m    514\u001b[0m     )\n",
      "File \u001b[1;32m~\\OneDrive\\Bureau\\ECOLE\\IMT Nord Europe\\M1\\ODATA\\Projet\\Categorisation-de-capteurs-de-pollution\\venv\\lib\\site-packages\\pandas\\io\\excel\\_base.py:1563\u001b[0m, in \u001b[0;36mExcelFile.__init__\u001b[1;34m(self, path_or_buffer, engine, storage_options, engine_kwargs)\u001b[0m\n\u001b[0;32m   1561\u001b[0m     ext \u001b[38;5;241m=\u001b[39m \u001b[38;5;124m\"\u001b[39m\u001b[38;5;124mxls\u001b[39m\u001b[38;5;124m\"\u001b[39m\n\u001b[0;32m   1562\u001b[0m \u001b[38;5;28;01melse\u001b[39;00m:\n\u001b[1;32m-> 1563\u001b[0m     ext \u001b[38;5;241m=\u001b[39m \u001b[43minspect_excel_format\u001b[49m\u001b[43m(\u001b[49m\n\u001b[0;32m   1564\u001b[0m \u001b[43m        \u001b[49m\u001b[43mcontent_or_path\u001b[49m\u001b[38;5;241;43m=\u001b[39;49m\u001b[43mpath_or_buffer\u001b[49m\u001b[43m,\u001b[49m\u001b[43m \u001b[49m\u001b[43mstorage_options\u001b[49m\u001b[38;5;241;43m=\u001b[39;49m\u001b[43mstorage_options\u001b[49m\n\u001b[0;32m   1565\u001b[0m \u001b[43m    \u001b[49m\u001b[43m)\u001b[49m\n\u001b[0;32m   1566\u001b[0m     \u001b[38;5;28;01mif\u001b[39;00m ext \u001b[38;5;129;01mis\u001b[39;00m \u001b[38;5;28;01mNone\u001b[39;00m:\n\u001b[0;32m   1567\u001b[0m         \u001b[38;5;28;01mraise\u001b[39;00m \u001b[38;5;167;01mValueError\u001b[39;00m(\n\u001b[0;32m   1568\u001b[0m             \u001b[38;5;124m\"\u001b[39m\u001b[38;5;124mExcel file format cannot be determined, you must specify \u001b[39m\u001b[38;5;124m\"\u001b[39m\n\u001b[0;32m   1569\u001b[0m             \u001b[38;5;124m\"\u001b[39m\u001b[38;5;124man engine manually.\u001b[39m\u001b[38;5;124m\"\u001b[39m\n\u001b[0;32m   1570\u001b[0m         )\n",
      "File \u001b[1;32m~\\OneDrive\\Bureau\\ECOLE\\IMT Nord Europe\\M1\\ODATA\\Projet\\Categorisation-de-capteurs-de-pollution\\venv\\lib\\site-packages\\pandas\\io\\excel\\_base.py:1419\u001b[0m, in \u001b[0;36minspect_excel_format\u001b[1;34m(content_or_path, storage_options)\u001b[0m\n\u001b[0;32m   1416\u001b[0m \u001b[38;5;28;01mif\u001b[39;00m \u001b[38;5;28misinstance\u001b[39m(content_or_path, \u001b[38;5;28mbytes\u001b[39m):\n\u001b[0;32m   1417\u001b[0m     content_or_path \u001b[38;5;241m=\u001b[39m BytesIO(content_or_path)\n\u001b[1;32m-> 1419\u001b[0m \u001b[38;5;28;01mwith\u001b[39;00m \u001b[43mget_handle\u001b[49m\u001b[43m(\u001b[49m\n\u001b[0;32m   1420\u001b[0m \u001b[43m    \u001b[49m\u001b[43mcontent_or_path\u001b[49m\u001b[43m,\u001b[49m\u001b[43m \u001b[49m\u001b[38;5;124;43m\"\u001b[39;49m\u001b[38;5;124;43mrb\u001b[39;49m\u001b[38;5;124;43m\"\u001b[39;49m\u001b[43m,\u001b[49m\u001b[43m \u001b[49m\u001b[43mstorage_options\u001b[49m\u001b[38;5;241;43m=\u001b[39;49m\u001b[43mstorage_options\u001b[49m\u001b[43m,\u001b[49m\u001b[43m \u001b[49m\u001b[43mis_text\u001b[49m\u001b[38;5;241;43m=\u001b[39;49m\u001b[38;5;28;43;01mFalse\u001b[39;49;00m\n\u001b[0;32m   1421\u001b[0m \u001b[43m\u001b[49m\u001b[43m)\u001b[49m \u001b[38;5;28;01mas\u001b[39;00m handle:\n\u001b[0;32m   1422\u001b[0m     stream \u001b[38;5;241m=\u001b[39m handle\u001b[38;5;241m.\u001b[39mhandle\n\u001b[0;32m   1423\u001b[0m     stream\u001b[38;5;241m.\u001b[39mseek(\u001b[38;5;241m0\u001b[39m)\n",
      "File \u001b[1;32m~\\OneDrive\\Bureau\\ECOLE\\IMT Nord Europe\\M1\\ODATA\\Projet\\Categorisation-de-capteurs-de-pollution\\venv\\lib\\site-packages\\pandas\\io\\common.py:872\u001b[0m, in \u001b[0;36mget_handle\u001b[1;34m(path_or_buf, mode, encoding, compression, memory_map, is_text, errors, storage_options)\u001b[0m\n\u001b[0;32m    863\u001b[0m         handle \u001b[38;5;241m=\u001b[39m \u001b[38;5;28mopen\u001b[39m(\n\u001b[0;32m    864\u001b[0m             handle,\n\u001b[0;32m    865\u001b[0m             ioargs\u001b[38;5;241m.\u001b[39mmode,\n\u001b[1;32m   (...)\u001b[0m\n\u001b[0;32m    868\u001b[0m             newline\u001b[38;5;241m=\u001b[39m\u001b[38;5;124m\"\u001b[39m\u001b[38;5;124m\"\u001b[39m,\n\u001b[0;32m    869\u001b[0m         )\n\u001b[0;32m    870\u001b[0m     \u001b[38;5;28;01melse\u001b[39;00m:\n\u001b[0;32m    871\u001b[0m         \u001b[38;5;66;03m# Binary mode\u001b[39;00m\n\u001b[1;32m--> 872\u001b[0m         handle \u001b[38;5;241m=\u001b[39m \u001b[38;5;28;43mopen\u001b[39;49m\u001b[43m(\u001b[49m\u001b[43mhandle\u001b[49m\u001b[43m,\u001b[49m\u001b[43m \u001b[49m\u001b[43mioargs\u001b[49m\u001b[38;5;241;43m.\u001b[39;49m\u001b[43mmode\u001b[49m\u001b[43m)\u001b[49m\n\u001b[0;32m    873\u001b[0m     handles\u001b[38;5;241m.\u001b[39mappend(handle)\n\u001b[0;32m    875\u001b[0m \u001b[38;5;66;03m# Convert BytesIO or file objects passed with an encoding\u001b[39;00m\n",
      "\u001b[1;31mFileNotFoundError\u001b[0m: [Errno 2] No such file or directory: '../data/donnees_mesures_PM2_5.xlsx'"
     ]
    }
   ],
   "source": [
    "donnees_mes = pd.read_excel(\"../data/donnees_mesures_PM2_5.xlsx\")\n",
    "donnees_env = pd.read_excel(\"../data/donnees_environnement_capteurs.xlsx\")\n",
    "donnees_mes"
   ]
  },
  {
   "cell_type": "code",
   "execution_count": null,
   "id": "08ca87d9-1127-476e-afc7-4e81cb2724ad",
   "metadata": {},
   "outputs": [],
   "source": [
    "donnees_env = donnees_env.drop(donnees_env.columns[0:12], axis=1)\n"
   ]
  },
  {
   "cell_type": "code",
   "execution_count": null,
   "id": "87dcaaf0-86a5-48ad-a737-e58defbbda00",
   "metadata": {},
   "outputs": [],
   "source": [
    "donnees_env"
   ]
  },
  {
   "cell_type": "code",
   "execution_count": null,
   "id": "50fcb035-3ee9-4768-b0eb-d754f58f0faf",
   "metadata": {
    "scrolled": true
   },
   "outputs": [],
   "source": [
    "#Clean données:\n",
    "donnees_env[\"Trafic_Routier_vehicule_leger\"] = donnees_env[\"Trafic_Routier_vehicule_leger\"].str.replace(' ', '')\n",
    "donnees_env[\"Trafic_Routier_vehicule_leger\"] = donnees_env[\"Trafic_Routier_vehicule_leger\"].str.replace('�', '')\n",
    "\n",
    "donnees_env[\"Trafic_Routier_vehicule_leger\"] = donnees_env[\"Trafic_Routier_vehicule_leger\"].astype(int)\n",
    "\n",
    "donnees_env.info()\n",
    "\n"
   ]
  },
  {
   "cell_type": "code",
   "execution_count": null,
   "id": "367f9298-8c05-4b25-85ab-42a748dc6ba1",
   "metadata": {},
   "outputs": [],
   "source": [
    "statistiques = donnees_env.describe()\n",
    "print(statistiques)\n",
    "\n",
    "donnees_env.hist()\n"
   ]
  },
  {
   "cell_type": "code",
   "execution_count": null,
   "id": "a94ddbe7-f9c3-4e69-92ae-47cf6549ed8f",
   "metadata": {},
   "outputs": [],
   "source": [
    "donnees_mes = donnees_mes.drop(donnees_mes.columns[0], axis=1)\n",
    "# Remplacement des virgules par des points et conversion en float pour toutes les colonnes\n",
    "for nom_colonne in donnees_mes.columns:\n",
    "    donnees_mes[nom_colonne] = donnees_mes[nom_colonne].str.replace(',', '.').astype(float)"
   ]
  },
  {
   "cell_type": "code",
   "execution_count": null,
   "id": "beb89613-e46c-4d5a-954a-681bb6d0bb2f",
   "metadata": {},
   "outputs": [],
   "source": [
    "# [['c7', 37.93437790878064], ['c26', 46.95547626434998], ['c27', 41.79336022339435]] with NaN before aberrant"
   ]
  },
  {
   "cell_type": "code",
   "execution_count": null,
   "id": "c8f5a498-d381-4c99-9e9d-eac9aeee6b96",
   "metadata": {},
   "outputs": [],
   "source": [
    "#Suppression des valeurs aberrantes\n",
    "\n",
    "donnees_mes.hist()\n",
    "    \n",
    "for colonne in donnees_mes.columns:\n",
    "        if pd.api.types.is_numeric_dtype(cleaned_dataframe[colonne]):\n",
    "            Q1 = donnees_mes[colonne].quantile(0.25)\n",
    "            Q3 = donnees_mes[colonne].quantile(0.75)\n",
    "            IQR = Q3 - Q1\n",
    "            \n",
    "            # Détection des valeurs aberrantes\n",
    "            outliers_mask = (donnees_mes[colonne] < (Q1 - 1.5 * IQR)) | (donnees_mes[colonne] > (Q3 + 1.5 * IQR))\n",
    "            \n",
    "            # Remplacement des valeurs aberrantes par NaN\n",
    "            donnees_mes.loc[outliers_mask, colonne] = np.nan\n",
    "        \n",
    "donnees_mes.hist()"
   ]
  },
  {
   "cell_type": "code",
   "execution_count": null,
   "id": "07275328-d238-43d7-a80d-89748369994c",
   "metadata": {},
   "outputs": [],
   "source": [
    "# Supression des colonnes aberrantes et remplissage des valeurs nulles\n",
    "\n",
    "# Compter le nombre de valeurs manquantes par colonne\n",
    "nombre_na_par_colonne = donnees_mes.isna().sum()\n",
    "\n",
    "# Supprimer les colonnes avec un pourcentage de valeurs manquantes supérieur à 33%\n",
    "colonnes_del = []\n",
    "for nom_colonne, nombre_na in nombre_na_par_colonne.items():\n",
    "    if nombre_na / len(donnees_mes) > 0.33:\n",
    "        colonnes_del.append([nom_colonne,nombre_na*100/len(donnees_mes)])\n",
    "        donnees_mes = donnees_mes.drop(nom_colonne, axis=1)\n",
    "        \n",
    "\n",
    "# Remplir les valeurs manquantes restantes avec la médiane de chaque colonne\n",
    "donnees_mes = donnees_mes.fillna(donnees_mes.median())\n",
    "\n",
    "print(colonnes_del)\n",
    "\n",
    "donnees_mes.info()"
   ]
  },
  {
   "cell_type": "code",
   "execution_count": null,
   "id": "d18dfbdb-bf0e-4cc5-8e61-4a3a1f8d5dad",
   "metadata": {},
   "outputs": [],
   "source": []
  },
  {
   "cell_type": "code",
   "execution_count": null,
   "id": "8c3f8e38-2362-4aec-9433-85aada978292",
   "metadata": {},
   "outputs": [],
   "source": []
  }
 ],
 "metadata": {
  "kernelspec": {
   "display_name": "Python 3 (ipykernel)",
   "language": "python",
   "name": "python3"
  },
  "language_info": {
   "codemirror_mode": {
    "name": "ipython",
    "version": 3
   },
   "file_extension": ".py",
   "mimetype": "text/x-python",
   "name": "python",
   "nbconvert_exporter": "python",
   "pygments_lexer": "ipython3",
   "version": "3.10.5"
  }
 },
 "nbformat": 4,
 "nbformat_minor": 5
}
