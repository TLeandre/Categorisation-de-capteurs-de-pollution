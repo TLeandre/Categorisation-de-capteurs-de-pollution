{
 "cells": [
  {
   "cell_type": "code",
   "execution_count": 1,
   "id": "03c0d801-f4f4-4ced-8273-f391e1e23711",
   "metadata": {},
   "outputs": [],
   "source": [
    "import pandas as pd\n",
    "import numpy as np"
   ]
  },
  {
   "cell_type": "code",
   "execution_count": 5,
   "id": "125a455a-dc4d-4cfc-9f05-4f5c85ee39f7",
   "metadata": {},
   "outputs": [
    {
     "name": "stdout",
     "output_type": "stream",
     "text": [
      "   INDEX;Typologie_zone;Type_voie;Nombre_voies;Distance_capteur_voie;Position_capteurs;Presence_arbres;Feuille_arbres;Morphologie_urbaine;Hauteur_batiments;Distance_capteur_batiment;Particularite;Trafic_Routier_vehicule_leger;Trafic_Routier_poids_lourds;Trafic_Routier_2_roues;emission_moyenne_annuelle_kg_maille_an;Donnees_Cartographie\n",
      "0   c1;centre ville;Rue droite;Boulevard a 3 voies...                                                                                                                                                                                                                                                                                           \n",
      "1   c2;centre ville;Rue droite;Boulevard a 3 voies...                                                                                                                                                                                                                                                                                           \n",
      "2   c3;centre ville;Intersection en T ;Boulevard a...                                                                                                                                                                                                                                                                                           \n",
      "3   c4;centre ville;Intersection en T ;Boulevard a...                                                                                                                                                                                                                                                                                           \n",
      "4   c5;centre ville;Rue droite;Boulevard a 3 voies...                                                                                                                                                                                                                                                                                           \n",
      "..                                                ...                                                                                                                                                                                                                                                                                           \n",
      "92  c93;zones residentielles;Rue droite;Rue  a 1 v...                                                                                                                                                                                                                                                                                           \n",
      "93  c94;zones residentielles;Rue droite;Rue moyenn...                                                                                                                                                                                                                                                                                           \n",
      "94  c95;zones residentielles;Rue en pente ;Rue  a ...                                                                                                                                                                                                                                                                                           \n",
      "95  c96;zones residentielles;Rue droite;Rue moyenn...                                                                                                                                                                                                                                                                                           \n",
      "96  c97;zones residentielles;Rue droite;Rue tres e...                                                                                                                                                                                                                                                                                           \n",
      "\n",
      "[97 rows x 1 columns]\n"
     ]
    }
   ],
   "source": [
    "donnees_mes = pd.read_csv(\"../data/donnees_mesures_PM2_5.csv\")\n",
    "donnees_env = pd.read_csv(\"../data/donnees_environnement_capteurs.csv\")\n",
    "print(donnees_env)"
   ]
  },
  {
   "cell_type": "code",
   "execution_count": null,
   "id": "08ca87d9-1127-476e-afc7-4e81cb2724ad",
   "metadata": {},
   "outputs": [],
   "source": []
  },
  {
   "cell_type": "code",
   "execution_count": null,
   "id": "87dcaaf0-86a5-48ad-a737-e58defbbda00",
   "metadata": {},
   "outputs": [],
   "source": []
  }
 ],
 "metadata": {
  "kernelspec": {
   "display_name": "Python 3 (ipykernel)",
   "language": "python",
   "name": "python3"
  },
  "language_info": {
   "codemirror_mode": {
    "name": "ipython",
    "version": 3
   },
   "file_extension": ".py",
   "mimetype": "text/x-python",
   "name": "python",
   "nbconvert_exporter": "python",
   "pygments_lexer": "ipython3",
   "version": "3.10.11"
  }
 },
 "nbformat": 4,
 "nbformat_minor": 5
}
