{
 "cells": [
  {
   "cell_type": "code",
   "execution_count": 82,
   "id": "03c0d801-f4f4-4ced-8273-f391e1e23711",
   "metadata": {},
   "outputs": [],
   "source": [
    "import pandas as pd\n",
    "import numpy as np"
   ]
  },
  {
   "cell_type": "code",
   "execution_count": null,
   "id": "125a455a-dc4d-4cfc-9f05-4f5c85ee39f7",
   "metadata": {},
   "outputs": [],
   "source": [
    "donnees_mes = pd.read_excel(\"../data/donnees_mesures_PM2_5.xlsx\")\n",
    "donnees_env = pd.read_excel(\"../data/donnees_environnement_capteurs.xlsx\")\n",
    "donnees_mes"
   ]
  },
  {
   "cell_type": "code",
   "execution_count": null,
   "id": "a94ddbe7-f9c3-4e69-92ae-47cf6549ed8f",
   "metadata": {},
   "outputs": [],
   "source": [
    "date = donnees_mes['Date']\n",
    "donnees_mes = donnees_mes.drop(donnees_mes.columns[0], axis=1)\n",
    "# Remplacement des virgules par des points et conversion en float pour toutes les colonnes\n",
    "for nom_colonne in donnees_mes.columns:\n",
    "    donnees_mes[nom_colonne] = donnees_mes[nom_colonne].replace(',', '.').astype(float)"
   ]
  },
  {
   "cell_type": "code",
   "execution_count": null,
   "id": "beb89613-e46c-4d5a-954a-681bb6d0bb2f",
   "metadata": {},
   "outputs": [],
   "source": [
    "# [['c7', 37.93437790878064], ['c26', 46.95547626434998], ['c27', 41.79336022339435]] with NaN before aberrant"
   ]
  },
  {
   "cell_type": "code",
   "execution_count": null,
   "id": "c8f5a498-d381-4c99-9e9d-eac9aeee6b96",
   "metadata": {},
   "outputs": [],
   "source": [
    "#Suppression des valeurs aberrantes\n",
    "\n",
    "donnees_mes.hist()\n",
    "    \n",
    "for colonne in donnees_mes.columns:\n",
    "        if pd.api.types.is_numeric_dtype(donnees_mes[colonne]):\n",
    "            Q1 = donnees_mes[colonne].quantile(0.25)\n",
    "            Q3 = donnees_mes[colonne].quantile(0.75)\n",
    "            IQR = Q3 - Q1\n",
    "            \n",
    "            # Détection des valeurs aberrantes\n",
    "            outliers_mask = (donnees_mes[colonne] < (Q1 - 1.5 * IQR)) | (donnees_mes[colonne] > (Q3 + 1.5 * IQR))\n",
    "            \n",
    "            # Remplacement des valeurs aberrantes par NaN\n",
    "            donnees_mes.loc[outliers_mask, colonne] = np.nan\n",
    "        \n"
   ]
  },
  {
   "cell_type": "code",
   "execution_count": null,
   "id": "07275328-d238-43d7-a80d-89748369994c",
   "metadata": {},
   "outputs": [],
   "source": [
    "# Supression des colonnes aberrantes et remplissage des valeurs nulles\n",
    "\n",
    "# Compter le nombre de valeurs manquantes par colonne\n",
    "nombre_na_par_colonne = donnees_mes.isna().sum()\n",
    "\n",
    "# Supprimer les colonnes avec un pourcentage de valeurs manquantes supérieur à 33%\n",
    "colonnes_del = []\n",
    "for nom_colonne, nombre_na in nombre_na_par_colonne.items():\n",
    "    if nombre_na / len(donnees_mes) > 0.33:\n",
    "        colonnes_del.append([nom_colonne,nombre_na*100/len(donnees_mes)])\n",
    "        donnees_mes = donnees_mes.drop(nom_colonne, axis=1)\n",
    "        \n",
    "\n",
    "# Remplir les valeurs manquantes restantes avec la médiane de chaque colonne\n",
    "donnees_mes = donnees_mes.fillna(donnees_mes.median())\n",
    "\n",
    "print(colonnes_del)\n",
    "donnees_mes.hist()"
   ]
  },
  {
   "cell_type": "code",
   "execution_count": null,
   "id": "84857e03-be87-4041-8da6-caa1ce4b600d",
   "metadata": {},
   "outputs": [],
   "source": [
    "from sklearn.preprocessing import StandardScaler\n",
    "\n",
    "# Normalisation des données\n",
    "\n",
    "scaler = StandardScaler()\n",
    "X = donnees_mes.to_numpy()\n",
    "X = scaler.fit_transform(X)\n",
    "mes_normees = pd.DataFrame(X)\n",
    "mes_normees\n"
   ]
  },
  {
   "cell_type": "code",
   "execution_count": null,
   "id": "0d5d5028-8e0e-48f3-97d5-00228dc97de6",
   "metadata": {},
   "outputs": [],
   "source": [
    "mes_normees.insert(0, 'Date', date)"
   ]
  },
  {
   "cell_type": "code",
   "execution_count": null,
   "id": "d18dfbdb-bf0e-4cc5-8e61-4a3a1f8d5dad",
   "metadata": {},
   "outputs": [],
   "source": [
    "mes_normees.to_csv(\"../preprocessing/donnees_mesures_PM2_5.csv\",index=False,sep=';')"
   ]
  },
  {
   "cell_type": "code",
   "execution_count": null,
   "id": "8c3f8e38-2362-4aec-9433-85aada978292",
   "metadata": {},
   "outputs": [],
   "source": []
  }
 ],
 "metadata": {
  "kernelspec": {
   "display_name": "Python 3 (ipykernel)",
   "language": "python",
   "name": "python3"
  },
  "language_info": {
   "codemirror_mode": {
    "name": "ipython",
    "version": 3
   },
   "file_extension": ".py",
   "mimetype": "text/x-python",
   "name": "python",
   "nbconvert_exporter": "python",
   "pygments_lexer": "ipython3",
   "version": "3.10.11"
  }
 },
 "nbformat": 4,
 "nbformat_minor": 5
}
